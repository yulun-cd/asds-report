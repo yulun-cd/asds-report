{
 "cells": [
  {
   "cell_type": "code",
   "execution_count": 1,
   "metadata": {},
   "outputs": [],
   "source": [
    "import pandas as pd\n",
    "import geopandas as gpd"
   ]
  },
  {
   "cell_type": "code",
   "execution_count": 2,
   "metadata": {},
   "outputs": [],
   "source": [
    "# load in data\n",
    "lsoa=pd.read_csv('data/LSOA_Data.csv')\n",
    "df_info=pd.read_csv('data/LSOA_Main.csv')\n",
    "qual=pd.read_csv('data/qualification.csv')"
   ]
  },
  {
   "cell_type": "code",
   "execution_count": 3,
   "metadata": {},
   "outputs": [],
   "source": [
    "# merge data\n",
    "df_info_qual=df_info.merge(qual,left_on='Codes',right_on='Codes')\n",
    "df=lsoa.merge(df_info_qual,left_on='LSOA11CD',right_on='Codes')"
   ]
  },
  {
   "cell_type": "code",
   "execution_count": 4,
   "metadata": {},
   "outputs": [],
   "source": [
    "# generate usable variables\n",
    "df['Pct_qual_level4+']=df['qual_level4+']/df['qual_total'] # percentage of high level qualification\n",
    "df['Pop_den']=df['Pop']/df['Area'] # population density\n",
    "df['Pct_elderly']=df['65+']/df['Pop'] # percentage of elderly people\n",
    "df['Pct_workingage']=df['Workingage']/df['Pop'] # percentage of working age population\n",
    "df['Pct_nonwhite']=1-(df['White']/df['Pop']) # percentage of non-white people\n",
    "df['Pct_Roads']=df['RoadsArea']/df['Area'] # percentage of roads area\n",
    "df['Pct_Greenspace']=df['GreenspaceArea']/df['Area'] # percentage of greenspace area\n",
    "\n",
    "df['1000MedianHP']=df['MedianHP']/1000 # for better formatting of the graph"
   ]
  },
  {
   "cell_type": "code",
   "execution_count": 5,
   "metadata": {},
   "outputs": [],
   "source": [
    "# remove useless columns\n",
    "df=df.drop(['Codes','Names_x','Names_y','RGN11CD','RGN11NM','COMESTRES','POPDEN','HHOLDS','AVHHOLDSZ','GreenspaceArea',\n",
    "            'RoadsArea','ORroomsM1','ORbedsM1','RoomsHH','BedsHH','SumPrice','MeanPrice', 'MedianPrice', \n",
    "            'EntireHome', 'PrivateRoom', 'SharedRoom','SmallHost', 'MultiHost', 'PropertyCount',\n",
    "            'USUALRES','HHOLDRES','geometry','Owned', 'SharedOwnshp','SocialRented',\n",
    "            'PrivateRented', 'RentFree','0-15', '16-29', '30-44', '45-64','65+','Workingage','Pop','Area',\n",
    "            'White','MultiEthnic','Asian','Black','OtherEthnic','qual_total','qual_level4+'],axis=1)"
   ]
  },
  {
   "cell_type": "code",
   "execution_count": 6,
   "metadata": {},
   "outputs": [
    {
     "data": {
      "text/plain": [
       "Index(['LSOA11CD', 'LSOA11NM', 'MSOA11CD', 'MSOA11NM', 'LAD11CD', 'LAD11NM',\n",
       "       'MedianIncome', 'MedianHP', 'Unemployed_rate', 'PTAL_average',\n",
       "       'Cars_per_hholds', 'Pct_badhealth', 'Pct_birth_notUK',\n",
       "       'Pct_qual_level4+', 'Pop_den', 'Pct_elderly', 'Pct_workingage',\n",
       "       'Pct_nonwhite', 'Pct_Roads', 'Pct_Greenspace', '1000MedianHP'],\n",
       "      dtype='object')"
      ]
     },
     "execution_count": 6,
     "metadata": {},
     "output_type": "execute_result"
    }
   ],
   "source": [
    "df.columns"
   ]
  },
  {
   "cell_type": "code",
   "execution_count": 7,
   "metadata": {},
   "outputs": [],
   "source": [
    "df=df.rename(columns={'Unemployed_rate':'UnRate'})"
   ]
  },
  {
   "cell_type": "code",
   "execution_count": null,
   "metadata": {},
   "outputs": [],
   "source": [
    "gdf = gpd.GeoDataFrame(df)\n",
    "gdf['geometry'] = gdf['geometry'].apply(lambda x: loads(x))\n",
    "gdf = gdf.set_geometry('geometry')"
   ]
  },
  {
   "cell_type": "code",
   "execution_count": 8,
   "metadata": {},
   "outputs": [],
   "source": [
    "df.to_csv('data/lsoa_data_cleaned.csv')"
   ]
  }
 ],
 "metadata": {
  "kernelspec": {
   "display_name": "Python 3",
   "language": "python",
   "name": "python3"
  },
  "language_info": {
   "codemirror_mode": {
    "name": "ipython",
    "version": 3
   },
   "file_extension": ".py",
   "mimetype": "text/x-python",
   "name": "python",
   "nbconvert_exporter": "python",
   "pygments_lexer": "ipython3",
   "version": "3.6.11"
  }
 },
 "nbformat": 4,
 "nbformat_minor": 4
}
