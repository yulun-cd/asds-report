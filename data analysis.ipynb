{
 "cells": [
  {
   "cell_type": "code",
   "execution_count": null,
   "metadata": {},
   "outputs": [],
   "source": [
    "import pandas as pd\n",
    "import geopandas as gpd\n",
    "import matplotlib.pyplot as plt\n",
    "import palettable.colorbrewer.sequential as pcs\n",
    "import palettable.colorbrewer.diverging as pcd\n",
    "\n",
    "from statsmodels.stats.outliers_influence import variance_inflation_factor\n",
    "\n",
    "import libpysal\n",
    "\n",
    "from esda.moran import Moran,Moran_Local\n",
    "\n",
    "from spreg import OLS, ML_Lag\n",
    "\n",
    "from mgwr.sel_bw import Sel_BW\n",
    "from mgwr.gwr import GWR\n",
    "\n",
    "from splot.esda import lisa_cluster\n",
    "\n",
    "from patsy import dmatrices"
   ]
  },
  {
   "cell_type": "code",
   "execution_count": null,
   "metadata": {},
   "outputs": [],
   "source": [
    "# read in data\n",
    "pre_df=pd.read_csv('data/lsoa_data.csv')\n",
    "# lsoa geometry\n",
    "boundary=gpd.read_file('data/LSOA_boundary/LDN-LSOAs.shp')\n",
    "\n",
    "# merge two dataframes\n",
    "gdf=gpd.GeoDataFrame(pre_df).merge(boundary,left_on='Codes',right_on='lsoa11cd')\n",
    "# drop excessive columns\n",
    "gdf=gdf.drop(['lsoa11cd','lsoa11nm','lsoa11nmw','objectid','st_areasha','st_lengths'],axis=1)"
   ]
  },
  {
   "cell_type": "code",
   "execution_count": null,
   "metadata": {},
   "outputs": [],
   "source": [
    "# explore the structure of the data\n",
    "gdf['kMedianHP']=gdf['MedianHP']/1000\n",
    "gdf['kMedianHP'].describe()"
   ]
  },
  {
   "cell_type": "code",
   "execution_count": null,
   "metadata": {},
   "outputs": [],
   "source": [
    "# remove lsoas wth no house price data\n",
    "gdf=gdf[gdf['kMedianHP']>0]\n",
    "\n",
    "# check correlation between dependent and independent variables\n",
    "gdf.corr(method='kendall')['MedianHP']"
   ]
  },
  {
   "cell_type": "code",
   "execution_count": null,
   "metadata": {},
   "outputs": [],
   "source": [
    "gdf.plot(column='kMedianHP',scheme='fisherjenks',cmap='viridis',legend=True)"
   ]
  },
  {
   "cell_type": "code",
   "execution_count": null,
   "metadata": {},
   "outputs": [],
   "source": [
    "gdf[gdf['kMedianHP']>1500]"
   ]
  },
  {
   "cell_type": "code",
   "execution_count": null,
   "metadata": {},
   "outputs": [],
   "source": [
    "# list all the independent variables\n",
    "var_n=gdf.columns.tolist()[3:-2]"
   ]
  },
  {
   "cell_type": "code",
   "execution_count": null,
   "metadata": {},
   "outputs": [],
   "source": [
    "var_n.remove('c_per_hhlds')\n",
    "var_n.remove('Pct_CHDC')\n",
    "\n",
    "gdf.drop(['Pct_CHDC','c_per_hhlds'],inplace=True,axis=1)"
   ]
  },
  {
   "cell_type": "code",
   "execution_count": null,
   "metadata": {},
   "outputs": [],
   "source": [
    "def vif(df,dep_var,list):\n",
    "    form=''\n",
    "    for i in list:\n",
    "        form+=i\n",
    "        if i != list[-1]:\n",
    "            form+='+'\n",
    "    y,X=dmatrices(dep_var+ ' ~ ' + form, data=df,return_type='dataframe')\n",
    "\n",
    "    vif=pd.DataFrame()\n",
    "    vif['VIF']=[variance_inflation_factor(X.values, i) for i in range(X.shape[1])]\n",
    "    vif['variable']=X.columns\n",
    "\n",
    "    return vif"
   ]
  },
  {
   "cell_type": "code",
   "execution_count": null,
   "metadata": {},
   "outputs": [],
   "source": [
    "# check VIF\n",
    "vif(gdf,'kMedianHP',var_n)"
   ]
  },
  {
   "cell_type": "code",
   "execution_count": null,
   "metadata": {},
   "outputs": [],
   "source": [
    "# Check correlation with MedianIncome\n",
    "gdf.corr(method='kendall')['MedianIncome']"
   ]
  },
  {
   "cell_type": "code",
   "execution_count": null,
   "metadata": {},
   "outputs": [],
   "source": [
    "gdf.corr(method='kendall')['Pct_qual_above_l4']"
   ]
  },
  {
   "cell_type": "code",
   "execution_count": null,
   "metadata": {},
   "outputs": [],
   "source": [
    "var_n.remove('UnRate')\n",
    "var_n.remove('Pct_workingage')\n",
    "\n",
    "gdf.drop(['UnRate','Pct_workingage'],inplace=True,axis=1)"
   ]
  },
  {
   "cell_type": "code",
   "execution_count": null,
   "metadata": {},
   "outputs": [],
   "source": [
    "# recheck VIF\n",
    "vif(gdf,'kMedianHP',var_n)"
   ]
  },
  {
   "cell_type": "code",
   "execution_count": null,
   "metadata": {},
   "outputs": [],
   "source": [
    "# build simple OLS model\n",
    "m_multi=OLS(gdf[['kMedianHP']].values,\n",
    "            gdf[var_n].values,\n",
    "            name_x=var_n,\n",
    "            name_y='kMedianHP')\n",
    "\n",
    "print(m_multi.summary)"
   ]
  },
  {
   "cell_type": "code",
   "execution_count": null,
   "metadata": {},
   "outputs": [],
   "source": [
    "# spatial weights matrix\n",
    "weights=libpysal.weights.KNN.from_dataframe(gdf,k=6)\n",
    "weights.transform='r'"
   ]
  },
  {
   "cell_type": "code",
   "execution_count": null,
   "metadata": {},
   "outputs": [],
   "source": [
    "# check the normality of the residuals\n",
    "plt.plot(m_multi.predy,\n",
    "         m_multi.u,\n",
    "         'oC0',\n",
    "         markeredgecolor='white')\n",
    "plt.axhline(linestyle='dashed',color='red')\n",
    "plt.ylabel('Residuals')\n",
    "plt.xlabel('Predicted y')\n",
    "plt.show()"
   ]
  },
  {
   "cell_type": "code",
   "execution_count": null,
   "metadata": {},
   "outputs": [],
   "source": [
    "# spatial autocorrelation of the OLS residuals\n",
    "gdf['multi_res']=m_multi.u\n",
    "multi_res_moran=Moran(m_multi.u,weights)\n",
    "print(multi_res_moran.I)\n",
    "print(multi_res_moran.p_sim)"
   ]
  },
  {
   "cell_type": "code",
   "execution_count": null,
   "metadata": {},
   "outputs": [],
   "source": [
    "fig,ax=plt.subplots(1,figsize=(15,12))\n",
    "\n",
    "gdf.plot(column='multi_res',scheme='FisherJenks',k=7,ax=ax,\n",
    "         cmap=pcs.YlGnBu_7.mpl_colormap,edgecolor='lightgrey',linewidth=0.1,\n",
    "         legend=True,legend_kwds={'loc':'lower right','title':'Residuals'})\n",
    "\n",
    "plt.figtext(x=0.35,y=0.13,\n",
    "            s=\"Global Moran's I: \"+str(round(multi_res_moran.I,3))+\" (p-value < \"+str(multi_res_moran.p_sim)+\")\",fontsize=16)\n",
    "ax.set_axis_off()\n",
    "\n",
    "#plt.savefig('graph/map_res.png',dpi=200, bbox_inches='tight', facecolor='white')\n",
    "plt.show()"
   ]
  },
  {
   "cell_type": "code",
   "execution_count": null,
   "metadata": {},
   "outputs": [],
   "source": [
    "# build spatial lag model\n",
    "m_Lag=ML_Lag(gdf[['kMedianHP']].values,\n",
    "                   gdf[var_n].values,\n",
    "                   weights,\n",
    "                   name_x=var_n,\n",
    "                   name_y='kMedianHP')\n",
    "print(m_Lag.summary)"
   ]
  },
  {
   "cell_type": "code",
   "execution_count": null,
   "metadata": {},
   "outputs": [],
   "source": [
    "#Prepare dataset inputs\n",
    "g_y = gdf['kMedianHP'].values.reshape((-1,1))\n",
    "g_X = gdf[var_n].values\n",
    "g_coords=[]\n",
    "for i in gdf['geometry'].centroid.tolist():\n",
    "    g_coords.append((i.x,i.y))"
   ]
  },
  {
   "cell_type": "code",
   "execution_count": null,
   "metadata": {},
   "outputs": [],
   "source": [
    "bw=Sel_BW(g_coords,g_y,g_X,fixed=False,kernel='gaussian',spherical=False)\n",
    "bw.search()"
   ]
  },
  {
   "cell_type": "code",
   "execution_count": null,
   "metadata": {},
   "outputs": [],
   "source": [
    "# build GWR model\n",
    "m_gwr=GWR(g_coords,g_y,g_X,bw.bw[0],kernel='gaussian')\n",
    "m_gwr_fit=m_gwr.fit()\n",
    "m_gwr_fit.summary()"
   ]
  },
  {
   "cell_type": "code",
   "execution_count": null,
   "metadata": {},
   "outputs": [],
   "source": [
    "# filter all the statistically insignificant (at 0.05 level) results\n",
    "f_est=m_gwr_fit.filter_tvals(alpha=.05)"
   ]
  },
  {
   "cell_type": "code",
   "execution_count": null,
   "metadata": {},
   "outputs": [],
   "source": [
    "var_n"
   ]
  },
  {
   "cell_type": "code",
   "execution_count": null,
   "metadata": {},
   "outputs": [],
   "source": [
    "# merge the model result with the original dataframe\n",
    "data_params=pd.DataFrame(f_est)\n",
    "data_localR2=pd.DataFrame(m_gwr_fit.localR2)\n",
    "\n",
    "tem_df=pd.DataFrame(gdf[['Codes','Names','kMedianHP','geometry']])\n",
    "result_df=tem_df.assign(intercept=data_params[0],\n",
    "                        MedianIncome=data_params[1],\n",
    "                        Pct_nonwhite=data_params[2],\n",
    "                        Pct_workingage=data_params[3],\n",
    "                        UnRate=data_params[4],\n",
    "                        PTAL_average=data_params[5],\n",
    "                        localR2=data_localR2[0])\n",
    "\n",
    "result_gdf=gpd.GeoDataFrame(result_df,geometry='geometry')"
   ]
  },
  {
   "cell_type": "code",
   "execution_count": null,
   "metadata": {},
   "outputs": [],
   "source": [
    "fig,ax=plt.subplots(2,4,figsize=(20,13), subplot_kw=dict(aspect='equal'))\n",
    "ax = ax.flatten()\n",
    "\n",
    "titles = ['Intercept']+var_n\n",
    "\n",
    "for i,row in enumerate(f_est.T):\n",
    "    temp = result_gdf.assign(toplot=f_est.T[i])\n",
    "    temp.query('toplot==0').sort_values('toplot').plot(color='grey',ax=ax[i],alpha=.2)\n",
    "\n",
    "    temp.query('toplot!=0').sort_values('toplot').plot('toplot',cmap='viridis',ax=ax[i],legend=True)\n",
    "    \n",
    "    ax[i].set_title(titles[i], fontsize=16)\n",
    "    \n",
    "    ax[i].set_xticklabels([])\n",
    "    ax[i].set_yticklabels([])\n",
    "    ax[i].set_xticks([])\n",
    "    ax[i].set_yticks([])\n",
    "\n",
    "result_gdf.assign(r2=m_gwr_fit.localR2).sort_values('r2').plot('r2',ax=ax[-1],legend=True,\n",
    "                                                               vmin=0,vmax=1,cmap='viridis')\n",
    "    \n",
    "ax[-1].set_xticklabels([])\n",
    "ax[-1].set_yticklabels([])\n",
    "ax[-1].set_xticks([])\n",
    "ax[-1].set_yticks([])\n",
    "    \n",
    "ax[-1].set_title('Local R2', fontsize=16)\n",
    "    \n",
    "fig.tight_layout()\n",
    "    \n",
    "plt.show()"
   ]
  },
  {
   "cell_type": "code",
   "execution_count": null,
   "metadata": {},
   "outputs": [],
   "source": [
    "# calculate residuals\n",
    "result_gdf['predy']=m_gwr_fit.predy\n",
    "result_gdf['resid']=result_gdf['kMedianHP']-result_gdf['predy']\n",
    "result_gdf['pct_resid']=result_gdf['resid']/result_gdf['kMedianHP']"
   ]
  },
  {
   "cell_type": "code",
   "execution_count": null,
   "metadata": {},
   "outputs": [],
   "source": [
    "# plot the residuals spatial distribution\n",
    "fig,ax=plt.subplots(1,figsize=(12,8))\n",
    "result_gdf.plot(column='pct_resid',cmap=pcd.PRGn_7.mpl_colormap,scheme='fisherjenks',k=7,legend=True,ax=ax)\n",
    "plt.show()"
   ]
  },
  {
   "cell_type": "code",
   "execution_count": null,
   "metadata": {},
   "outputs": [],
   "source": [
    "# global moran's I of the GWR residuals\n",
    "gwr_res_moran=Moran(result_gdf['pct_resid'].values,weights)\n",
    "print(gwr_res_moran.I)\n",
    "print(gwr_res_moran.p_sim)"
   ]
  },
  {
   "cell_type": "code",
   "execution_count": null,
   "metadata": {},
   "outputs": [],
   "source": [
    "# local moran's I\n",
    "moran_loc_res=Moran_Local(result_gdf['pct_resid'].values,weights,permutations=999)"
   ]
  },
  {
   "cell_type": "code",
   "execution_count": null,
   "metadata": {},
   "outputs": [],
   "source": [
    "# lisa cluster map\n",
    "fig,ax=plt.subplots(1,figsize=(15,12))\n",
    "lisa_cluster(moran_loc_res,gdf,p=0.05,ax=ax)\n",
    "plt.show()"
   ]
  }
 ],
 "metadata": {
  "interpreter": {
   "hash": "203d01a3458eace725dddcfcdb2c604435d077f4f6685c100707a5d3f77ea293"
  },
  "kernelspec": {
   "display_name": "Python 3.8.10 64-bit ('sds2021': conda)",
   "language": "python",
   "name": "python3"
  },
  "language_info": {
   "codemirror_mode": {
    "name": "ipython",
    "version": 3
   },
   "file_extension": ".py",
   "mimetype": "text/x-python",
   "name": "python",
   "nbconvert_exporter": "python",
   "pygments_lexer": "ipython3",
   "version": "3.8.10"
  },
  "orig_nbformat": 4
 },
 "nbformat": 4,
 "nbformat_minor": 2
}
